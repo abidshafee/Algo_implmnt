{
 "cells": [
  {
   "cell_type": "markdown",
   "metadata": {},
   "source": [
    "# Quick Sort - Python Implementation:\n",
    "### Partitioning Array Items\n",
    "For **Quick Sort**, first, we need to partition the array into two halves based on a pivot element. So that one half consists of small values than the pivot and other one of larger items. Here the both halves are not need to be equal size.\n",
    "\n",
    "A simple way to doing partition is choosing a pivot and use it to divide others. In this case, if we put the pivot in the middle then left array consts of elements that are all smaller than the pivot, and *array on the right consists of items that are all larger than the pivot."
   ]
  },
  {
   "cell_type": "markdown",
   "metadata": {},
   "source": [
    "### Implementation of Partition Function"
   ]
  },
  {
   "cell_type": "code",
   "execution_count": 25,
   "metadata": {},
   "outputs": [],
   "source": [
    "# let's write a function to partition an array\n",
    "def part(arr):\n",
    "    # pick a pivot\n",
    "    piv = arr[0]\n",
    "    # remove the pivot from the array\n",
    "    arr = arr[1:]\n",
    "    \n",
    "    # define the left array\n",
    "    left = [x for x in arr if x <= piv]\n",
    "    # define the right array\n",
    "    right = [x for x in arr if x >= piv]\n",
    "    \n",
    "    return left, piv, right"
   ]
  },
  {
   "cell_type": "code",
   "execution_count": 11,
   "metadata": {},
   "outputs": [
    {
     "data": {
      "text/plain": [
       "([3, 1], 7, [55, 24, 30, 8, 85, 10, 25, 1004, 999, 29, 57, 88, 25, 103])"
      ]
     },
     "execution_count": 11,
     "metadata": {},
     "output_type": "execute_result"
    }
   ],
   "source": [
    "# let's declare a random array\n",
    "a = [7, 55, 24, 30, 8, 3, 85, 10, 25, 1, 1004, 999, 29, 57, 88, 25, 103]\n",
    "# now we'll call the part() function on it\n",
    "left, piv, right = part(a) # it'll partition the array into pivot, left, and right arrays\n",
    "part(a)"
   ]
  },
  {
   "cell_type": "markdown",
   "metadata": {},
   "source": [
    "### Quick Sort Function\n",
    "By using the partition() function we have our quick_sort() function half done. First, it splits the array into those pivot, left and right array using the partition function. These two left and right arrays are then sorted recursively (correct by inductive assumption). Finally the quick_sort() function returns the sorted array; Concatenating the left and right arrays, with the pivot in the middle, is guaranteed to result in a sorted sequence."
   ]
  },
  {
   "cell_type": "markdown",
   "metadata": {},
   "source": [
    "### Implementation of Quick Sort Function"
   ]
  },
  {
   "cell_type": "code",
   "execution_count": 8,
   "metadata": {},
   "outputs": [],
   "source": [
    "# let's define the quick_sort function using the part() function\n",
    "def quick_sort(arr):\n",
    "    if len(arr) <= 1:\n",
    "        return arr\n",
    "    # splitting the array into those pivot, left and right arrays\n",
    "    left, pivot, right = part(arr)\n",
    "    \n",
    "    #Finally, it returns the sorted array\n",
    "    # Cancatening the left and right array with the pivot in the middle\n",
    "    return quick_sort(left) + [pivot] + quick_sort(right)"
   ]
  },
  {
   "cell_type": "code",
   "execution_count": 12,
   "metadata": {},
   "outputs": [
    {
     "data": {
      "text/plain": [
       "[1, 3, 7, 8, 10, 24, 25, 25, 25, 29, 30, 55, 57, 85, 88, 103, 999, 1004]"
      ]
     },
     "execution_count": 12,
     "metadata": {},
     "output_type": "execute_result"
    }
   ],
   "source": [
    "# Now let's call the quick_sort() on the array\n",
    "quick_sort(a)"
   ]
  },
  {
   "cell_type": "markdown",
   "metadata": {},
   "source": [
    "# Counting Sort\n",
    "\n",
    "### **Counting Sort is counting values that whether they’re greater/less than each other**\n",
    "Using Quick Sort function, we can sort array items based on their value. By supplying a key function, we can sort by anything\n",
    "we’d like. The common implementation of Quick sort is simply counts the elements and then figures out where to put them in the sorted array. **But using python we can just build value lists for each key and then concatenate them**. Python implementation of counting sort is also called stable, because, if several values have the same key, they’ll end up in the original order with respect to each other."
   ]
  },
  {
   "cell_type": "code",
   "execution_count": 33,
   "metadata": {
    "tags": []
   },
   "outputs": [],
   "source": [
    "from collections import defaultdict as dd\n",
    "# taking dictionary object to put value list as a key: value pair\n",
    "\n",
    "def counting_sort(arr, key = lambda x: x): # supplying key function\n",
    "    sorted_arr = [] # an empty list that'll contain sorted items\n",
    "    C = dd(list) # To build a value list\n",
    "    # print(type(C))\n",
    "    for x in arr:\n",
    "        # building value lists\n",
    "        C[key(x)].append(x) # dictionary that holds key-value pairs\n",
    "        # counting using key and append them according to their key:\n",
    "        # i. e. For value 10, 10 will using as its key,\n",
    "        # for item 8, 8 will be using as it's key\n",
    "        print(C) \n",
    "    for key in range(min(C), max(C)+1):\n",
    "        sorted_arr.extend(C[key]) # add value in sorted order\n",
    "        print(sorted_arr)\n",
    "    return sorted_arr"
   ]
  },
  {
   "cell_type": "code",
   "execution_count": 17,
   "metadata": {},
   "outputs": [],
   "source": [
    "arr = [8, 7, 10, 3, 1, 15, 0]"
   ]
  },
  {
   "cell_type": "code",
   "execution_count": 34,
   "metadata": {},
   "outputs": [
    {
     "name": "stdout",
     "output_type": "stream",
     "text": [
      "defaultdict(<class 'list'>, {8: [8]})\n",
      "defaultdict(<class 'list'>, {8: [8], 7: [7]})\n",
      "defaultdict(<class 'list'>, {8: [8], 7: [7], 10: [10]})\n",
      "defaultdict(<class 'list'>, {8: [8], 7: [7], 10: [10], 3: [3]})\n",
      "defaultdict(<class 'list'>, {8: [8], 7: [7], 10: [10], 3: [3], 1: [1]})\n",
      "defaultdict(<class 'list'>, {8: [8], 7: [7], 10: [10], 3: [3], 1: [1], 15: [15]})\n",
      "defaultdict(<class 'list'>, {8: [8], 7: [7], 10: [10], 3: [3], 1: [1], 15: [15], 0: [0]})\n",
      "[0]\n",
      "[0, 1]\n",
      "[0, 1]\n",
      "[0, 1, 3]\n",
      "[0, 1, 3]\n",
      "[0, 1, 3]\n",
      "[0, 1, 3]\n",
      "[0, 1, 3, 7]\n",
      "[0, 1, 3, 7, 8]\n",
      "[0, 1, 3, 7, 8]\n",
      "[0, 1, 3, 7, 8, 10]\n",
      "[0, 1, 3, 7, 8, 10]\n",
      "[0, 1, 3, 7, 8, 10]\n",
      "[0, 1, 3, 7, 8, 10]\n",
      "[0, 1, 3, 7, 8, 10]\n",
      "[0, 1, 3, 7, 8, 10, 15]\n"
     ]
    },
    {
     "data": {
      "text/plain": [
       "[0, 1, 3, 7, 8, 10, 15]"
      ]
     },
     "execution_count": 34,
     "metadata": {},
     "output_type": "execute_result"
    }
   ],
   "source": [
    "counting_sort(arr)"
   ]
  },
  {
   "cell_type": "code",
   "execution_count": null,
   "metadata": {},
   "outputs": [],
   "source": []
  }
 ],
 "metadata": {
  "kernelspec": {
   "display_name": "Python 3",
   "language": "python",
   "name": "python3"
  },
  "language_info": {
   "codemirror_mode": {
    "name": "ipython",
    "version": 3
   },
   "file_extension": ".py",
   "mimetype": "text/x-python",
   "name": "python",
   "nbconvert_exporter": "python",
   "pygments_lexer": "ipython3",
   "version": "3.8.3"
  }
 },
 "nbformat": 4,
 "nbformat_minor": 4
}
