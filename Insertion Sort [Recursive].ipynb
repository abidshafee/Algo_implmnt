{
 "cells": [
  {
   "cell_type": "markdown",
   "metadata": {},
   "source": [
    "# Insertion Sort - Py Implementation [Recursive Method]"
   ]
  },
  {
   "cell_type": "markdown",
   "metadata": {},
   "source": [
    "## Insertion Sort:\n",
    "Isertion sort is, inserting list items to their right index position which is often compared with sorting cards in our hand by swaping places according to their sizes.\n",
    "\n",
    "## insertion_sort() Function\n",
    "To get an  𝑎𝑟𝑟𝑎𝑦  sorted up to index position  𝑖 , first, it sorts array items recursively up to the position  𝑖−1 , and then swap items  𝑎𝑟𝑟𝑎𝑦[𝑖𝑛𝑑𝑒𝑥]  down until it reaches its correct position according to their sizes."
   ]
  },
  {
   "cell_type": "code",
   "execution_count": 10,
   "metadata": {},
   "outputs": [],
   "source": [
    "# define the function\n",
    "def insertion_sort(arr, i):\n",
    "    # check, if the array contains single item\n",
    "    if i == 0:\n",
    "        # then do nothing\n",
    "        return\n",
    "    # otherwise, recursively sort array items upto index position i-1\n",
    "    insertion_sort(arr, i-1)\n",
    "    \n",
    "    # let's define how it'll do the sorting\n",
    "    j = i-1 #start walking down\n",
    "    \n",
    "    # at this point we'll be using a loop to keep walking down\n",
    "    # untill some condition exceed\n",
    "    while j>0 and arr[j-1]>arr[j]:\n",
    "        # if the loop condition marches\n",
    "        # keep swaping places\n",
    "        arr[j-1], arr[j] = arr[j], arr[j-1]\n",
    "        j -= 1 # decremeting j by 1\n",
    "    # finally, the function'll return sorted version of the input array\n",
    "    return arr"
   ]
  },
  {
   "cell_type": "markdown",
   "metadata": {},
   "source": [
    "### Now, let's sort an array using the **Insertion Sort** Function"
   ]
  },
  {
   "cell_type": "code",
   "execution_count": 11,
   "metadata": {},
   "outputs": [
    {
     "data": {
      "text/plain": [
       "[0, 1, 2, 3, 5, 7, 9, 11, 21, 33]"
      ]
     },
     "execution_count": 11,
     "metadata": {},
     "output_type": "execute_result"
    }
   ],
   "source": [
    "a = [11, 9, 5, 33, 2, 3, 1, 7, 0, 21]\n",
    "i = len(a)\n",
    "insertion_sort(a, i)"
   ]
  },
  {
   "cell_type": "markdown",
   "metadata": {},
   "source": [
    "__________________________________________________________________\n",
    "# Insertion Sort - Py Implementation [Iterative Method]\n",
    "\n",
    "Instead of recursing backward, it iterates forward, from the first element. If you think about it, that’s exactly what the recursive version does too. Although it seems to start at the end, the recursive calls go all the way back to the first element before the while loop is ever executed. After that recursive call returns, the while loop is executed on the second element, and so on, so the behaviors of the two versions are identical."
   ]
  },
  {
   "cell_type": "code",
   "execution_count": 4,
   "metadata": {},
   "outputs": [],
   "source": [
    "def insertion_sort_itr(arr):\n",
    "    for index in range(1, len(arr)):\n",
    "        j = index # start walking forword\n",
    "        while j > 0 and arr[j-1] > arr[j]:\n",
    "            # if the loop condition matches\n",
    "            # keep swaping places \n",
    "            # for each item from the begining\n",
    "            arr[j-1], arr[j] = arr[j], arr[j-1]\n",
    "            j -= 1\n",
    "    return arr"
   ]
  },
  {
   "cell_type": "code",
   "execution_count": 7,
   "metadata": {},
   "outputs": [
    {
     "data": {
      "text/plain": [
       "[0, 1, 2, 3, 5, 7, 9, 11, 21, 33]"
      ]
     },
     "execution_count": 7,
     "metadata": {},
     "output_type": "execute_result"
    }
   ],
   "source": [
    "insertion_sort_itr(a)"
   ]
  },
  {
   "cell_type": "code",
   "execution_count": 9,
   "metadata": {},
   "outputs": [
    {
     "name": "stdout",
     "output_type": "stream",
     "text": [
      "1.77 µs ± 255 ns per loop (mean ± std. dev. of 7 runs, 100000 loops each)\n"
     ]
    }
   ],
   "source": [
    "%timeit insertion_sort_itr(a)"
   ]
  },
  {
   "cell_type": "code",
   "execution_count": 13,
   "metadata": {},
   "outputs": [
    {
     "name": "stdout",
     "output_type": "stream",
     "text": [
      "2.9 µs ± 147 ns per loop (mean ± std. dev. of 7 runs, 100000 loops each)\n"
     ]
    }
   ],
   "source": [
    "%timeit insertion_sort(a, i)"
   ]
  },
  {
   "cell_type": "code",
   "execution_count": null,
   "metadata": {},
   "outputs": [],
   "source": []
  }
 ],
 "metadata": {
  "kernelspec": {
   "display_name": "Python 3",
   "language": "python",
   "name": "python3"
  },
  "language_info": {
   "codemirror_mode": {
    "name": "ipython",
    "version": 3
   },
   "file_extension": ".py",
   "mimetype": "text/x-python",
   "name": "python",
   "nbconvert_exporter": "python",
   "pygments_lexer": "ipython3",
   "version": "3.8.3"
  }
 },
 "nbformat": 4,
 "nbformat_minor": 4
}
