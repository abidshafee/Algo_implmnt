{
 "cells": [
  {
   "cell_type": "markdown",
   "metadata": {},
   "source": [
    "# Implementing: Divide and Conquer Algorithms\n",
    "In this algorithm we Decompose a problem in a way that improves performance. Hence solve the subproblems recursively, combine the results, and thereby conquer the problem.\n",
    "\n",
    "A general implementation of divide anad Conquer Scheme as follows:\n",
    "\n",
    "<code>\n",
    "    def divide_conquer(array, divide, combine):\n",
    "        if len(array) == 1:\n",
    "            return array\n",
    "        L, R = divide(array)\n",
    "        A = divide_conquer(L, divide, combine)\n",
    "        B = divide_conquer(R, divide, combine)\n",
    "       return combine(A, B)\n",
    "</code>"
   ]
  },
  {
   "cell_type": "code",
   "execution_count": 10,
   "metadata": {},
   "outputs": [],
   "source": [
    "from bisect import bisect\n",
    "# dir(bisect)"
   ]
  },
  {
   "cell_type": "markdown",
   "metadata": {},
   "source": [
    "## Merge Sort\n",
    "It is a recursive algorithm. Because it divides input array into two halves and call itself for sorting them individually, and then merge the two sorted halves"
   ]
  },
  {
   "cell_type": "markdown",
   "metadata": {},
   "source": [
    "## <code>merge_sort()</code>\n",
    "the <code>merge_sort()</code> function is the main process in this algorithm. It divides the input array into two halves, and sort two halves then merge them into final sorted array. The prcess will run until both halves are empty."
   ]
  },
  {
   "cell_type": "code",
   "execution_count": 1,
   "metadata": {},
   "outputs": [],
   "source": [
    "def merge_sort(arr):\n",
    "    mid = len(arr)//2  #midpoint of array\n",
    "    left, right = arr[:mid], arr[mid:] # dividing into two arrays based on mid-point\n",
    "    \n",
    "    #sort by halves\n",
    "    if len(left) > 1:\n",
    "        left = merge_sort(left)\n",
    "    if len(right) > 1:\n",
    "        right = merge_sort(right)\n",
    "    sorted_arr = [] #an empty list, we'll put final sorted items into it\n",
    "    \n",
    "    # now we'll run a loop until there is an item in both left and right array\n",
    "    while left and right: # item in them is True\n",
    "        if left[-1] > right[-1]:#left array has greater last value\n",
    "            sorted_arr.append(left.pop())\n",
    "        else:\n",
    "            sorted_arr.append(right.pop())\n",
    "    sorted_arr.reverse()\n",
    "    return (left or right) + sorted_arr\n",
    "    "
   ]
  },
  {
   "cell_type": "code",
   "execution_count": 2,
   "metadata": {},
   "outputs": [],
   "source": [
    "# define an array\n",
    "a = [7, 55, 24,30, 8, 3, 85, 10, 25, 1004, 1006, 29, 57, 89, 88, 25, 103]"
   ]
  },
  {
   "cell_type": "code",
   "execution_count": 3,
   "metadata": {},
   "outputs": [
    {
     "data": {
      "text/plain": [
       "[3, 7, 8, 10, 24, 25, 25, 29, 30, 55, 57, 85, 88, 89, 103, 1004, 1006]"
      ]
     },
     "execution_count": 3,
     "metadata": {},
     "output_type": "execute_result"
    }
   ],
   "source": [
    "#let's sort the array using merge_sort()\n",
    "merge_sort(a)"
   ]
  },
  {
   "cell_type": "code",
   "execution_count": 45,
   "metadata": {},
   "outputs": [
    {
     "data": {
      "text/plain": [
       "list"
      ]
     },
     "execution_count": 45,
     "metadata": {},
     "output_type": "execute_result"
    }
   ],
   "source": [
    "sorted_arr = []\n",
    "type(sorted_arr)"
   ]
  },
  {
   "cell_type": "markdown",
   "metadata": {},
   "source": [
    "# **Quick Sort**"
   ]
  },
  {
   "cell_type": "markdown",
   "metadata": {},
   "source": [
    "### Partitioning Array Items"
   ]
  },
  {
   "cell_type": "markdown",
   "metadata": {},
   "source": [
    "For quick sort, first, we need to partition the array into **two halves** based on a **pivot** point. So the one half consists of small values than the **pivot** and other one of larger items. Here the halves are not need to be equal."
   ]
  },
  {
   "cell_type": "markdown",
   "metadata": {},
   "source": [
    "A simple way to doing partition is choosing a **pivot** and use it to divide others. In this case, if we put the **pivot** in the middle then ***left array*** consts of elements that are all smaller than the **pivot**, and ****array on the right*** consists of items that are all larger than the **pivot**."
   ]
  },
  {
   "cell_type": "markdown",
   "metadata": {},
   "source": [
    "### Implementation of Partition Function"
   ]
  },
  {
   "cell_type": "code",
   "execution_count": 10,
   "metadata": {},
   "outputs": [],
   "source": [
    "# let's wrrite a function to partition an array\n",
    "def partition(array):\n",
    "    # pick a pivot, any item we can pick\n",
    "    # remove the pivot from the array\n",
    "    piv, array = array[0], array[1:]\n",
    "    \n",
    "    # values in the left array all are smaller than the pivot\n",
    "    left = [x for x in array if x <= piv]\n",
    "    # values in the right array all are larger than the pivot\n",
    "    right = [x for x in array if x > piv]\n",
    "    # function returns pivot, and left and right arrays\n",
    "    return left, piv, right"
   ]
  },
  {
   "cell_type": "code",
   "execution_count": 8,
   "metadata": {},
   "outputs": [
    {
     "data": {
      "text/plain": [
       "([3, 1], 7, [55, 24, 30, 8, 85, 10, 25, 1004, 29, 57, 88, 25, 103])"
      ]
     },
     "execution_count": 8,
     "metadata": {},
     "output_type": "execute_result"
    }
   ],
   "source": [
    "# let's declare a random array\n",
    "a = [7, 55, 24,30, 8, 3, 85, 10, 25, 1, 1004, 29, 57, 88, 25, 103]\n",
    "# now we'll call the partition function on the array\n",
    "partition(a)"
   ]
  },
  {
   "cell_type": "markdown",
   "metadata": {},
   "source": [
    "### Quick Sort Function"
   ]
  },
  {
   "cell_type": "markdown",
   "metadata": {},
   "source": [
    "By using the <code>partition()</code> function we have our <code>quick_sort()</code> function half done. First, it splits the array into those **pivot**, **left** and **right array** using the partition function. These two left and right arrays are then sorted recursively (correct by inductive assumption). Finally the <code>quick_sort()</code> function returns the sorted array Concatenating the left and right arrays, with the pivot in the middle, is guaranteed to result in a sorted sequence."
   ]
  },
  {
   "cell_type": "markdown",
   "metadata": {},
   "source": [
    "### Implementation of Quick Sort Function"
   ]
  },
  {
   "cell_type": "code",
   "execution_count": 6,
   "metadata": {},
   "outputs": [],
   "source": [
    "def quick_sort(array):\n",
    "    if len(array) <=1:\n",
    "        return array\n",
    "    left, pivot, right = partition(array)\n",
    "    return quick_sort(left) + [pivot] + quick_sort(right)"
   ]
  },
  {
   "cell_type": "code",
   "execution_count": 9,
   "metadata": {},
   "outputs": [
    {
     "data": {
      "text/plain": [
       "[1, 3, 7, 8, 10, 24, 25, 25, 29, 30, 55, 57, 85, 88, 103, 1004]"
      ]
     },
     "execution_count": 9,
     "metadata": {},
     "output_type": "execute_result"
    }
   ],
   "source": [
    "quick_sort(a)"
   ]
  },
  {
   "cell_type": "code",
   "execution_count": 16,
   "metadata": {},
   "outputs": [
    {
     "data": {
      "text/plain": [
       "[3, 7, 8, 10, 24, 25, 25, 29, 30, 55, 57, 85, 88, 89, 103, 1004, 1006]"
      ]
     },
     "execution_count": 16,
     "metadata": {},
     "output_type": "execute_result"
    }
   ],
   "source": [
    "%timeit\n",
    "quick_sort(a)"
   ]
  },
  {
   "cell_type": "code",
   "execution_count": 27,
   "metadata": {},
   "outputs": [
    {
     "data": {
      "text/plain": [
       "2"
      ]
     },
     "execution_count": 27,
     "metadata": {},
     "output_type": "execute_result"
    }
   ],
   "source": [
    "5//2"
   ]
  },
  {
   "cell_type": "code",
   "execution_count": 28,
   "metadata": {},
   "outputs": [
    {
     "data": {
      "text/plain": [
       "1"
      ]
     },
     "execution_count": 28,
     "metadata": {},
     "output_type": "execute_result"
    }
   ],
   "source": [
    "3//2"
   ]
  },
  {
   "cell_type": "code",
   "execution_count": 29,
   "metadata": {},
   "outputs": [
    {
     "data": {
      "text/plain": [
       "3"
      ]
     },
     "execution_count": 29,
     "metadata": {},
     "output_type": "execute_result"
    }
   ],
   "source": [
    "6//2"
   ]
  },
  {
   "cell_type": "code",
   "execution_count": 30,
   "metadata": {},
   "outputs": [
    {
     "data": {
      "text/plain": [
       "3"
      ]
     },
     "execution_count": 30,
     "metadata": {},
     "output_type": "execute_result"
    }
   ],
   "source": [
    "7//2"
   ]
  },
  {
   "cell_type": "code",
   "execution_count": null,
   "metadata": {},
   "outputs": [],
   "source": []
  }
 ],
 "metadata": {
  "kernelspec": {
   "display_name": "Python 3",
   "language": "python",
   "name": "python3"
  },
  "language_info": {
   "codemirror_mode": {
    "name": "ipython",
    "version": 3
   },
   "file_extension": ".py",
   "mimetype": "text/x-python",
   "name": "python",
   "nbconvert_exporter": "python",
   "pygments_lexer": "ipython3",
   "version": "3.8.3"
  }
 },
 "nbformat": 4,
 "nbformat_minor": 4
}
